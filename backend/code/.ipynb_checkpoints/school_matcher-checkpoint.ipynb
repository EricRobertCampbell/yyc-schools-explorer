{
 "cells": [
  {
   "cell_type": "code",
   "execution_count": 123,
   "id": "af7f93ab",
   "metadata": {},
   "outputs": [],
   "source": [
    "# Import packages \n",
    "import pandas as pd\n",
    "from fuzzywuzzy import process"
   ]
  },
  {
   "cell_type": "code",
   "execution_count": 124,
   "id": "f21d5ad7",
   "metadata": {},
   "outputs": [],
   "source": [
    "# Import School List Data\n",
    "school_list = pd.read_json(\"../../frontend/public/data/basic_school_information.json\")"
   ]
  },
  {
   "cell_type": "code",
   "execution_count": 125,
   "id": "adf4b7f8",
   "metadata": {},
   "outputs": [],
   "source": [
    "# Import Sports Data\n",
    "sports = pd.read_pickle(\"sports_analysis/sports_3.pkl\")"
   ]
  },
  {
   "cell_type": "code",
   "execution_count": 126,
   "id": "30d7a64a",
   "metadata": {},
   "outputs": [],
   "source": [
    "school_list = school_list.transpose()"
   ]
  },
  {
   "cell_type": "code",
   "execution_count": 127,
   "id": "f368a9f1",
   "metadata": {},
   "outputs": [],
   "source": [
    "# Filter list of schools for schools in sports dataset\n",
    "choices = school_list[school_list.schoolCity.isin(['Calgary', 'Cochrane', 'Airdrie', 'Chestermere'])].schoolName"
   ]
  },
  {
   "cell_type": "code",
   "execution_count": 128,
   "id": "fa4b896a",
   "metadata": {},
   "outputs": [],
   "source": [
    "# Filter out writing centers and e-learning centers\n",
    "choices_short = []\n",
    "for i in choices:\n",
    "    if 'writing' not in i.lower() and 'e-learning' not in i.lower():\n",
    "        choices_short.append(i)"
   ]
  },
  {
   "cell_type": "code",
   "execution_count": 129,
   "id": "1cb14696",
   "metadata": {},
   "outputs": [],
   "source": [
    "# Make into dataframe\n",
    "choices_s = choices[choices.isin(choices_short)]"
   ]
  },
  {
   "cell_type": "code",
   "execution_count": 134,
   "id": "cd17f47d",
   "metadata": {},
   "outputs": [],
   "source": [
    "# Make a set of distinct school names from sports data set to fuzzy match.\n",
    "#This is much faster than fuzzy matching every row\n",
    "school_names = []\n",
    "for i in set(sports.WINNER):\n",
    "    school_names.append(i)"
   ]
  },
  {
   "cell_type": "code",
   "execution_count": 135,
   "id": "beecf732",
   "metadata": {},
   "outputs": [],
   "source": [
    "# Convert to pandas data frame\n",
    "school_names = pd.DataFrame(school_names, columns = ['Original'])"
   ]
  },
  {
   "cell_type": "code",
   "execution_count": 137,
   "id": "302b7e28",
   "metadata": {},
   "outputs": [],
   "source": [
    "# List of schools that are closed or are a college\n",
    "schools_to_remove = [\"Viscount Bennett\", \"Central Collegiate Instate\", \"Central Collegiate Institute\", \n",
    "                     \"St. Mary's College\", \"Commercial High School\", \"South Calgary High School\", \"East Calgary\",\n",
    "                     \"Mount Royal College\", \"East Calgary High School\", \"East Calgary High\"                    ]"
   ]
  },
  {
   "cell_type": "code",
   "execution_count": 138,
   "id": "27be6175",
   "metadata": {},
   "outputs": [],
   "source": [
    "# Create list of only open schools in sports dataset\n",
    "open_schools = school_names[~school_names.Original.isin(schools_to_remove)]"
   ]
  },
  {
   "cell_type": "code",
   "execution_count": 139,
   "id": "1e07aa9d",
   "metadata": {
    "scrolled": true
   },
   "outputs": [
    {
     "name": "stderr",
     "output_type": "stream",
     "text": [
      "C:\\Users\\milne\\AppData\\Local\\Temp\\ipykernel_13100\\1115162034.py:2: SettingWithCopyWarning: \n",
      "A value is trying to be set on a copy of a slice from a DataFrame.\n",
      "Try using .loc[row_indexer,col_indexer] = value instead\n",
      "\n",
      "See the caveats in the documentation: https://pandas.pydata.org/pandas-docs/stable/user_guide/indexing.html#returning-a-view-versus-a-copy\n",
      "  open_schools.loc[:,'clean'] = ''\n",
      "C:\\Users\\milne\\AppData\\Local\\Temp\\ipykernel_13100\\1115162034.py:3: SettingWithCopyWarning: \n",
      "A value is trying to be set on a copy of a slice from a DataFrame.\n",
      "Try using .loc[row_indexer,col_indexer] = value instead\n",
      "\n",
      "See the caveats in the documentation: https://pandas.pydata.org/pandas-docs/stable/user_guide/indexing.html#returning-a-view-versus-a-copy\n",
      "  open_schools.loc[:,'match_percent'] = None\n",
      "C:\\Users\\milne\\AppData\\Local\\Temp\\ipykernel_13100\\1115162034.py:4: SettingWithCopyWarning: \n",
      "A value is trying to be set on a copy of a slice from a DataFrame.\n",
      "Try using .loc[row_indexer,col_indexer] = value instead\n",
      "\n",
      "See the caveats in the documentation: https://pandas.pydata.org/pandas-docs/stable/user_guide/indexing.html#returning-a-view-versus-a-copy\n",
      "  open_schools.loc[:,'School_code'] = ''\n"
     ]
    }
   ],
   "source": [
    "# Create neccessary columns for matching step\n",
    "open_schools.loc[:,'clean'] = ''\n",
    "open_schools.loc[:,'match_percent'] = None\n",
    "open_schools.loc[:,'School_code'] = ''"
   ]
  },
  {
   "cell_type": "code",
   "execution_count": 142,
   "id": "10a43705",
   "metadata": {
    "scrolled": true
   },
   "outputs": [
    {
     "name": "stderr",
     "output_type": "stream",
     "text": [
      "C:\\Users\\milne\\AppData\\Local\\Temp\\ipykernel_13100\\3379125403.py:13: SettingWithCopyWarning: \n",
      "A value is trying to be set on a copy of a slice from a DataFrame\n",
      "\n",
      "See the caveats in the documentation: https://pandas.pydata.org/pandas-docs/stable/user_guide/indexing.html#returning-a-view-versus-a-copy\n",
      "  open_schools['clean'][i] = match[0] # High School added after every school to match format in school dataset\n",
      "C:\\Users\\milne\\AppData\\Local\\Temp\\ipykernel_13100\\3379125403.py:14: SettingWithCopyWarning: \n",
      "A value is trying to be set on a copy of a slice from a DataFrame\n",
      "\n",
      "See the caveats in the documentation: https://pandas.pydata.org/pandas-docs/stable/user_guide/indexing.html#returning-a-view-versus-a-copy\n",
      "  open_schools['match_percent'][i] = match[1]\n",
      "C:\\Users\\milne\\AppData\\Local\\Temp\\ipykernel_13100\\3379125403.py:15: SettingWithCopyWarning: \n",
      "A value is trying to be set on a copy of a slice from a DataFrame\n",
      "\n",
      "See the caveats in the documentation: https://pandas.pydata.org/pandas-docs/stable/user_guide/indexing.html#returning-a-view-versus-a-copy\n",
      "  open_schools['School_code'][i] = match[2]\n"
     ]
    }
   ],
   "source": [
    "# Perform fuzzy matching with school dataset\n",
    "for i in open_schools.index:\n",
    "    if open_schools['Original'][i].endswith('Lacombe'): # Manually match these first two schools that do not match proper.\n",
    "        match = process.extractOne(\"Father Lacombe School\", \n",
    "                               choices_s)\n",
    "    elif open_schools['Original'][i] == 'St. Gabriel':\n",
    "        match = process.extractOne(\"St. Gabriel the Archangel\", \n",
    "                               choices_s)\n",
    "    else:\n",
    "        match = process.extractOne(open_schools.Original[i].replace(\"Bishop Grandin\", \"Our Lady of the Rockies High School\")\n",
    "                               .replace('Lacombe', \"Father Lacombe\")+ \" High School\", # Bishop Grandin was renamed\n",
    "                               choices_s) # Lacombe does not match unless named as such.\n",
    "    open_schools['clean'][i] = match[0] # High School added after every school to match format in school dataset\n",
    "    open_schools['match_percent'][i] = match[1]\n",
    "    open_schools['School_code'][i] = match[2]"
   ]
  },
  {
   "cell_type": "code",
   "execution_count": 144,
   "id": "37c1184f",
   "metadata": {},
   "outputs": [],
   "source": [
    "# Now that we have the clean names and the corresponding school code lets join it with our data.\n",
    "# First lets subset the columns we need, and name that appropriately\n",
    "school_cleaner = pd.DataFrame({'WINNER' : open_schools.Original,\n",
    "                              'WINNER_CLEAN' : open_schools.clean,\n",
    "                              'School_code' : open_schools.School_code})"
   ]
  },
  {
   "cell_type": "code",
   "execution_count": 145,
   "id": "0da5d427",
   "metadata": {},
   "outputs": [],
   "source": [
    "# Now to merge\n",
    "sports_cleannames = pd.merge(school_cleaner, sports)"
   ]
  },
  {
   "cell_type": "code",
   "execution_count": 147,
   "id": "8df6c59e",
   "metadata": {},
   "outputs": [],
   "source": [
    "# Remove uncleaned name\n",
    "sports_cleannames = sports_cleannames.drop(columns = 'WINNER')"
   ]
  },
  {
   "cell_type": "code",
   "execution_count": 148,
   "id": "bdf68db4",
   "metadata": {},
   "outputs": [],
   "source": [
    "sports_cleannames = sports_cleannames.rename(columns = {'WINNER_CLEAN' : 'WINNER'})"
   ]
  },
  {
   "cell_type": "code",
   "execution_count": 151,
   "id": "aa38360d",
   "metadata": {
    "scrolled": false
   },
   "outputs": [],
   "source": [
    "# Create total wins by school and year\n",
    "total_wins = sports_cleannames.groupby(['WINNER', 'School_code', 'YEAR WON', 'SPORT']).agg(\n",
    "    wins = pd.NamedAgg(column = 'WINNER', aggfunc = len))"
   ]
  },
  {
   "cell_type": "code",
   "execution_count": 152,
   "id": "1636440d",
   "metadata": {
    "scrolled": true
   },
   "outputs": [],
   "source": [
    "# Total wins 2019-20 by school\n",
    "wins201920 = total_wins.query(\"`YEAR WON` == '2019-20'\").sort_values('wins', ascending = False)"
   ]
  },
  {
   "cell_type": "code",
   "execution_count": 153,
   "id": "9e8ca931",
   "metadata": {},
   "outputs": [],
   "source": [
    "# All wins sorted\n",
    "sports_sorted = sports_cleannames.sort_values(['School_code', 'YEAR WON','SPORT', 'DIVISION','LEVEL', 'GENDER'], \n",
    "                                                           ascending = [True, False, True, True, True, True])"
   ]
  },
  {
   "cell_type": "code",
   "execution_count": null,
   "id": "03acee22",
   "metadata": {},
   "outputs": [],
   "source": []
  }
 ],
 "metadata": {
  "kernelspec": {
   "display_name": "Python 3 (ipykernel)",
   "language": "python",
   "name": "python3"
  },
  "language_info": {
   "codemirror_mode": {
    "name": "ipython",
    "version": 3
   },
   "file_extension": ".py",
   "mimetype": "text/x-python",
   "name": "python",
   "nbconvert_exporter": "python",
   "pygments_lexer": "ipython3",
   "version": "3.9.7"
  }
 },
 "nbformat": 4,
 "nbformat_minor": 5
}

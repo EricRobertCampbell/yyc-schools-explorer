{
 "cells": [
  {
   "cell_type": "markdown",
   "id": "2d7fc203",
   "metadata": {},
   "source": [
    "\n",
    "# Cleaning Calgary High School Sports Data\n",
    "\n",
    "- Run this file after `hs_sports_pull.ipynb`\n",
    "- Takes input `sports.pkl` from `hs_sports_pull.ipynb`\n",
    "- Cleans `YEAR WON` and `SPORT` columns\n",
    "- Splits ties from `WINNER` column, and pivots taller so each `WINNER` of a tie is on a new row\n",
    "- There are two unresolved warnings in the section on cleaning the `WINNER` column - but it is functioning properly\n",
    "- The colums `LEVEL`, `GENDER`, and `DIVISION` are not cleaned\n",
    "- `Boys` and `Girls` prefix soccer was eliminated - if doing gender analysis, would need to ensure this information is in the gender column at an earlier step.\n",
    "- Output DataFrame saved as `sports_3.pkl`\n",
    "- Output is ready to fuzzymatch `WINNER` with master list of schools"
   ]
  },
  {
   "cell_type": "markdown",
   "id": "3f11683e",
   "metadata": {},
   "source": [
    "Load Packages"
   ]
  },
  {
   "cell_type": "code",
   "execution_count": 1,
   "id": "43a061a2",
   "metadata": {},
   "outputs": [],
   "source": [
    "# %pip install fuzzywuzzy\n",
    "# %pip install python-Levenshtein"
   ]
  },
  {
   "cell_type": "code",
   "execution_count": 2,
   "id": "bcc3dec9",
   "metadata": {},
   "outputs": [],
   "source": [
    "import pandas as pd\n",
    "import re"
   ]
  },
  {
   "cell_type": "markdown",
   "id": "265a3852",
   "metadata": {},
   "source": [
    "1. Load the combined data"
   ]
  },
  {
   "cell_type": "code",
   "execution_count": 3,
   "id": "aa6d7f7d",
   "metadata": {},
   "outputs": [],
   "source": [
    "sports = pd.read_pickle('sports.pkl')"
   ]
  },
  {
   "cell_type": "code",
   "execution_count": 4,
   "id": "fb4264a1",
   "metadata": {},
   "outputs": [],
   "source": [
    "sports['YEAR WON'] = sports['YEAR WON'].str.strip()"
   ]
  },
  {
   "cell_type": "code",
   "execution_count": 5,
   "id": "15e9c2cf",
   "metadata": {},
   "outputs": [],
   "source": [
    "sports['WINNER'] = sports.WINNER.str.strip()"
   ]
  },
  {
   "cell_type": "code",
   "execution_count": 6,
   "id": "4df62954",
   "metadata": {},
   "outputs": [],
   "source": [
    "sports['WINNER'] = sports.WINNER.replace(\"\\n\",'')"
   ]
  },
  {
   "cell_type": "code",
   "execution_count": 7,
   "id": "ac21fb07",
   "metadata": {},
   "outputs": [],
   "source": [
    "sports = sports.reset_index(drop = True)"
   ]
  },
  {
   "cell_type": "code",
   "execution_count": 8,
   "id": "471345f1",
   "metadata": {},
   "outputs": [],
   "source": [
    "def split_ties():\n",
    "    sports['WINNER2'] = ''\n",
    "    sports['WINNER3'] = ''\n",
    "    for i in range(len(sports)):\n",
    "        winners = re.split(\", |\\nand |/\", sports.iloc[i]['WINNER'])\n",
    "        if len(winners) == 3:\n",
    "            sports.loc[i, 'WINNER'] = winners[0]\n",
    "            sports.loc[i, 'WINNER2'] = winners[1]\n",
    "            sports.loc[i, 'WINNER3'] = winners[2]\n",
    "        elif len(winners) == 2:\n",
    "            sports.loc[i, 'WINNER'] = winners[0]\n",
    "            sports.loc[i, 'WINNER2'] = winners[1]"
   ]
  },
  {
   "cell_type": "code",
   "execution_count": 9,
   "id": "58f77550",
   "metadata": {},
   "outputs": [],
   "source": [
    "split_ties()"
   ]
  },
  {
   "cell_type": "code",
   "execution_count": 10,
   "id": "64cb1d51",
   "metadata": {
    "scrolled": true
   },
   "outputs": [],
   "source": [
    "sports_tall = sports.melt(id_vars=[\"YEAR WON\", \"SPORT\", \"LEVEL\", \"GENDER\", \"DIVISION\"], \n",
    "        var_name=\"winnner_num\", \n",
    "        value_name=\"WINNER_SCHOOL\")"
   ]
  },
  {
   "cell_type": "code",
   "execution_count": 11,
   "id": "cfe23296",
   "metadata": {},
   "outputs": [],
   "source": [
    "sports_tall = sports_tall.rename(columns = {'WINNER_SCHOOL' : \"WINNER\"})"
   ]
  },
  {
   "cell_type": "code",
   "execution_count": 12,
   "id": "a7da01ba",
   "metadata": {
    "scrolled": true
   },
   "outputs": [],
   "source": [
    "sports_3 = sports_tall[~sports_tall['WINNER'].isin(['did not occur', 'did not occur due to Covid19 school closures',\n",
    "                                        'Not held due to labour unrest','Not Awarded', ''])]"
   ]
  },
  {
   "cell_type": "code",
   "execution_count": 13,
   "id": "08c41bcb",
   "metadata": {
    "scrolled": false
   },
   "outputs": [
    {
     "name": "stderr",
     "output_type": "stream",
     "text": [
      "C:\\Users\\milne\\AppData\\Local\\Temp\\ipykernel_8280\\173504617.py:1: SettingWithCopyWarning: \n",
      "A value is trying to be set on a copy of a slice from a DataFrame.\n",
      "Try using .loc[row_indexer,col_indexer] = value instead\n",
      "\n",
      "See the caveats in the documentation: https://pandas.pydata.org/pandas-docs/stable/user_guide/indexing.html#returning-a-view-versus-a-copy\n",
      "  sports_3['WINNER'] = sports_3['WINNER'].str.strip()\n"
     ]
    }
   ],
   "source": [
    "sports_3['WINNER'] = sports_3['WINNER'].str.strip()"
   ]
  },
  {
   "cell_type": "code",
   "execution_count": 14,
   "id": "f79c130d",
   "metadata": {},
   "outputs": [
    {
     "name": "stderr",
     "output_type": "stream",
     "text": [
      "C:\\Users\\milne\\AppData\\Local\\Temp\\ipykernel_8280\\837136386.py:1: SettingWithCopyWarning: \n",
      "A value is trying to be set on a copy of a slice from a DataFrame.\n",
      "Try using .loc[row_indexer,col_indexer] = value instead\n",
      "\n",
      "See the caveats in the documentation: https://pandas.pydata.org/pandas-docs/stable/user_guide/indexing.html#returning-a-view-versus-a-copy\n",
      "  sports_3['WINNER'] = sports_3.WINNER.str.replace(\"TIE -- \",'')\n"
     ]
    }
   ],
   "source": [
    "sports_3['WINNER'] = sports_3.WINNER.str.replace(\"TIE -- \",'')"
   ]
  },
  {
   "cell_type": "code",
   "execution_count": 15,
   "id": "1c665fab",
   "metadata": {},
   "outputs": [],
   "source": [
    "sports_3 = sports_3.drop(columns = ['winnner_num'])"
   ]
  },
  {
   "cell_type": "code",
   "execution_count": 16,
   "id": "8e31645e",
   "metadata": {},
   "outputs": [],
   "source": [
    "sports_3.SPORT = sports_3.SPORT.str.title().str.replace('Girls ', '').str.replace('Boys ', '').str.replace('And', '&')"
   ]
  },
  {
   "cell_type": "code",
   "execution_count": 17,
   "id": "cbe872ba",
   "metadata": {},
   "outputs": [],
   "source": [
    "sports_3.to_pickle('sports_3.pkl')"
   ]
  },
  {
   "cell_type": "code",
   "execution_count": 18,
   "id": "0da7f82f",
   "metadata": {},
   "outputs": [],
   "source": [
    "sports_pkl = pd.read_pickle('sports_3.pkl')"
   ]
  }
 ],
 "metadata": {
  "kernelspec": {
   "display_name": "Python 3 (ipykernel)",
   "language": "python",
   "name": "python3"
  },
  "language_info": {
   "codemirror_mode": {
    "name": "ipython",
    "version": 3
   },
   "file_extension": ".py",
   "mimetype": "text/x-python",
   "name": "python",
   "nbconvert_exporter": "python",
   "pygments_lexer": "ipython3",
   "version": "3.9.7"
  }
 },
 "nbformat": 4,
 "nbformat_minor": 5
}

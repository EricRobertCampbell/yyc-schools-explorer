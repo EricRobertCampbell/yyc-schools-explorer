{
 "cells": [
  {
   "cell_type": "markdown",
   "id": "2d7fc203",
   "metadata": {},
   "source": [
    "\n",
    "# Cleaning Calgary High School Sports Data\n",
    "\n",
    "- Run this file after `hs_sports_pull.ipynb`\n",
    "- Takes input `sports.pkl` from `hs_sports_pull.ipynb`\n",
    "- Cleans `YEAR WON` and `SPORT` columns\n",
    "- Splits ties from `WINNER` column, and pivots taller so each `WINNER` of a tie is on a new row\n",
    "- There are two unresolved warnings in the section on cleaning the `WINNER` column - but it is functioning properly\n",
    "- The colums `LEVEL`, `GENDER`, and `DIVISION` are not cleaned\n",
    "- `Boys` and `Girls` prefix soccer was eliminated - if doing gender analysis, would need to ensure this information is in the gender column at an earlier step.\n",
    "- Output DataFrame saved as `sports_3.pkl`\n",
    "- Output is ready to fuzzymatch `WINNER` with master list of schools"
   ]
  },
  {
   "cell_type": "markdown",
   "id": "3f11683e",
   "metadata": {},
   "source": [
    "Load Packages"
   ]
  },
  {
   "cell_type": "code",
   "execution_count": 1,
   "id": "43a061a2",
   "metadata": {},
   "outputs": [],
   "source": [
    "# %pip install fuzzywuzzy\n",
    "# %pip install python-Levenshtein"
   ]
  },
  {
   "cell_type": "code",
   "execution_count": 1,
   "id": "bcc3dec9",
   "metadata": {},
   "outputs": [],
   "source": [
    "import pandas as pd\n",
    "import re"
   ]
  },
  {
   "cell_type": "markdown",
   "id": "265a3852",
   "metadata": {},
   "source": [
    "1. Load the combined data"
   ]
  },
  {
   "cell_type": "code",
   "execution_count": 2,
   "id": "aa6d7f7d",
   "metadata": {},
   "outputs": [],
   "source": [
    "sports = pd.read_pickle('sports.pkl')"
   ]
  },
  {
   "cell_type": "code",
   "execution_count": 3,
   "id": "fb4264a1",
   "metadata": {},
   "outputs": [],
   "source": [
    "sports['YEAR WON'] = sports['YEAR WON'].str.strip()"
   ]
  },
  {
   "cell_type": "code",
   "execution_count": 4,
   "id": "15e9c2cf",
   "metadata": {},
   "outputs": [],
   "source": [
    "sports['WINNER'] = sports.WINNER.str.strip()"
   ]
  },
  {
   "cell_type": "code",
   "execution_count": 5,
   "id": "4df62954",
   "metadata": {},
   "outputs": [],
   "source": [
    "sports['WINNER'] = sports.WINNER.replace(\"\\n\",'')"
   ]
  },
  {
   "cell_type": "code",
   "execution_count": 6,
   "id": "ac21fb07",
   "metadata": {},
   "outputs": [],
   "source": [
    "sports = sports.reset_index(drop = True)"
   ]
  },
  {
   "cell_type": "code",
   "execution_count": 7,
   "id": "471345f1",
   "metadata": {},
   "outputs": [],
   "source": [
    "def split_ties():\n",
    "    sports['WINNER2'] = ''\n",
    "    sports['WINNER3'] = ''\n",
    "    for i in range(len(sports)):\n",
    "        winners = re.split(\", |\\nand |/\", sports.iloc[i]['WINNER'])\n",
    "        if len(winners) == 3:\n",
    "            sports.loc[i, 'WINNER'] = winners[0]\n",
    "            sports.loc[i, 'WINNER2'] = winners[1]\n",
    "            sports.loc[i, 'WINNER3'] = winners[2]\n",
    "        elif len(winners) == 2:\n",
    "            sports.loc[i, 'WINNER'] = winners[0]\n",
    "            sports.loc[i, 'WINNER2'] = winners[1]"
   ]
  },
  {
   "cell_type": "code",
   "execution_count": 8,
   "id": "58f77550",
   "metadata": {},
   "outputs": [],
   "source": [
    "split_ties()"
   ]
  },
  {
   "cell_type": "code",
   "execution_count": 9,
   "id": "64cb1d51",
   "metadata": {
    "scrolled": true
   },
   "outputs": [],
   "source": [
    "sports_tall = sports.melt(id_vars=[\"YEAR WON\", \"SPORT\", \"LEVEL\", \"GENDER\", \"DIVISION\"], \n",
    "        var_name=\"winnner_num\", \n",
    "        value_name=\"WINNER_SCHOOL\")"
   ]
  },
  {
   "cell_type": "code",
   "execution_count": 10,
   "id": "cfe23296",
   "metadata": {},
   "outputs": [],
   "source": [
    "sports_tall = sports_tall.rename(columns = {'WINNER_SCHOOL' : \"WINNER\"})"
   ]
  },
  {
   "cell_type": "code",
   "execution_count": 12,
   "id": "a7da01ba",
   "metadata": {
    "scrolled": true
   },
   "outputs": [],
   "source": [
    "sports_3 = sports_tall[~sports_tall['WINNER'].isin(['did not occur', 'did not occur due to Covid19 school closures',\n",
    "                                        'Not held due to labour unrest','Not Awarded', ''])].copy()"
   ]
  },
  {
   "cell_type": "code",
   "execution_count": 13,
   "id": "08c41bcb",
   "metadata": {
    "scrolled": false
   },
   "outputs": [],
   "source": [
    "sports_3['WINNER'] = sports_3['WINNER'].str.strip()"
   ]
  },
  {
   "cell_type": "code",
   "execution_count": 14,
   "id": "f79c130d",
   "metadata": {},
   "outputs": [],
   "source": [
    "sports_3['WINNER'] = sports_3.WINNER.str.replace(\"TIE -- \",'')"
   ]
  },
  {
   "cell_type": "code",
   "execution_count": 15,
   "id": "1c665fab",
   "metadata": {},
   "outputs": [],
   "source": [
    "sports_3 = sports_3.drop(columns = ['winnner_num'])"
   ]
  },
  {
   "cell_type": "code",
   "execution_count": 16,
   "id": "8e31645e",
   "metadata": {},
   "outputs": [],
   "source": [
    "sports_3.SPORT = sports_3.SPORT.str.title().str.replace('Girls ', '').str.replace('Boys ', '').str.replace('And', '&')"
   ]
  },
  {
   "cell_type": "code",
   "execution_count": 17,
   "id": "cbe872ba",
   "metadata": {},
   "outputs": [],
   "source": [
    "sports_3.to_pickle('sports_3.pkl')"
   ]
  },
  {
   "cell_type": "code",
   "execution_count": 18,
   "id": "0da7f82f",
   "metadata": {},
   "outputs": [],
   "source": [
    "sports_pkl = pd.read_pickle('sports_3.pkl')"
   ]
  },
  {
   "cell_type": "code",
   "execution_count": 19,
   "id": "56ae1a09",
   "metadata": {},
   "outputs": [
    {
     "data": {
      "text/html": [
       "<div>\n",
       "<style scoped>\n",
       "    .dataframe tbody tr th:only-of-type {\n",
       "        vertical-align: middle;\n",
       "    }\n",
       "\n",
       "    .dataframe tbody tr th {\n",
       "        vertical-align: top;\n",
       "    }\n",
       "\n",
       "    .dataframe thead th {\n",
       "        text-align: right;\n",
       "    }\n",
       "</style>\n",
       "<table border=\"1\" class=\"dataframe\">\n",
       "  <thead>\n",
       "    <tr style=\"text-align: right;\">\n",
       "      <th></th>\n",
       "      <th>YEAR WON</th>\n",
       "      <th>SPORT</th>\n",
       "      <th>LEVEL</th>\n",
       "      <th>GENDER</th>\n",
       "      <th>DIVISION</th>\n",
       "      <th>WINNER</th>\n",
       "    </tr>\n",
       "  </thead>\n",
       "  <tbody>\n",
       "    <tr>\n",
       "      <th>0</th>\n",
       "      <td>1913-14</td>\n",
       "      <td>Football</td>\n",
       "      <td>Sr. Varsity</td>\n",
       "      <td>Boys</td>\n",
       "      <td>Div I</td>\n",
       "      <td>Mount Royal College</td>\n",
       "    </tr>\n",
       "    <tr>\n",
       "      <th>1</th>\n",
       "      <td>1914-15</td>\n",
       "      <td>Football</td>\n",
       "      <td>Sr. Varsity</td>\n",
       "      <td>Boys</td>\n",
       "      <td>Div I</td>\n",
       "      <td>Central Collegiate Institute</td>\n",
       "    </tr>\n",
       "    <tr>\n",
       "      <th>7</th>\n",
       "      <td>1920-21</td>\n",
       "      <td>Football</td>\n",
       "      <td>Jr. Varsity</td>\n",
       "      <td>Boys</td>\n",
       "      <td>Div I</td>\n",
       "      <td>Central Collegiate Institute</td>\n",
       "    </tr>\n",
       "    <tr>\n",
       "      <th>8</th>\n",
       "      <td>1920-21</td>\n",
       "      <td>Football</td>\n",
       "      <td>Sr. Varsity</td>\n",
       "      <td>Boys</td>\n",
       "      <td>Div I</td>\n",
       "      <td>South Calgary High School</td>\n",
       "    </tr>\n",
       "    <tr>\n",
       "      <th>9</th>\n",
       "      <td>1921-22</td>\n",
       "      <td>Football</td>\n",
       "      <td>Jr. Varsity</td>\n",
       "      <td>Boys</td>\n",
       "      <td>Div I</td>\n",
       "      <td>Central Collegiate Institute</td>\n",
       "    </tr>\n",
       "    <tr>\n",
       "      <th>...</th>\n",
       "      <td>...</td>\n",
       "      <td>...</td>\n",
       "      <td>...</td>\n",
       "      <td>...</td>\n",
       "      <td>...</td>\n",
       "      <td>...</td>\n",
       "    </tr>\n",
       "    <tr>\n",
       "      <th>4830</th>\n",
       "      <td>2017-18</td>\n",
       "      <td>Football</td>\n",
       "      <td>NaN</td>\n",
       "      <td>NaN</td>\n",
       "      <td>Junior Div 3</td>\n",
       "      <td>Churchill</td>\n",
       "    </tr>\n",
       "    <tr>\n",
       "      <th>4975</th>\n",
       "      <td>2019-20</td>\n",
       "      <td>Football</td>\n",
       "      <td>NaN</td>\n",
       "      <td>NaN</td>\n",
       "      <td>Junior Div 3</td>\n",
       "      <td>Bowness</td>\n",
       "    </tr>\n",
       "    <tr>\n",
       "      <th>4979</th>\n",
       "      <td>2019-20</td>\n",
       "      <td>Football</td>\n",
       "      <td>NaN</td>\n",
       "      <td>NaN</td>\n",
       "      <td>Senior Div 3</td>\n",
       "      <td>Fowler</td>\n",
       "    </tr>\n",
       "    <tr>\n",
       "      <th>5233</th>\n",
       "      <td>1960-61</td>\n",
       "      <td>Track &amp; Field</td>\n",
       "      <td>Sr. Varsity</td>\n",
       "      <td>Girls</td>\n",
       "      <td>None</td>\n",
       "      <td>Viscount Bennett</td>\n",
       "    </tr>\n",
       "    <tr>\n",
       "      <th>5463</th>\n",
       "      <td>1973-74</td>\n",
       "      <td>Rugby</td>\n",
       "      <td>Sr. Varsity</td>\n",
       "      <td>Boys</td>\n",
       "      <td>Div I</td>\n",
       "      <td>Bowness</td>\n",
       "    </tr>\n",
       "  </tbody>\n",
       "</table>\n",
       "<p>2456 rows × 6 columns</p>\n",
       "</div>"
      ],
      "text/plain": [
       "     YEAR WON          SPORT        LEVEL GENDER      DIVISION  \\\n",
       "0     1913-14       Football  Sr. Varsity   Boys         Div I   \n",
       "1     1914-15       Football  Sr. Varsity   Boys         Div I   \n",
       "7     1920-21       Football  Jr. Varsity   Boys         Div I   \n",
       "8     1920-21       Football  Sr. Varsity   Boys         Div I   \n",
       "9     1921-22       Football  Jr. Varsity   Boys         Div I   \n",
       "...       ...            ...          ...    ...           ...   \n",
       "4830  2017-18       Football          NaN    NaN  Junior Div 3   \n",
       "4975  2019-20       Football          NaN    NaN  Junior Div 3   \n",
       "4979  2019-20       Football          NaN    NaN  Senior Div 3   \n",
       "5233  1960-61  Track & Field  Sr. Varsity  Girls          None   \n",
       "5463  1973-74          Rugby  Sr. Varsity   Boys         Div I   \n",
       "\n",
       "                            WINNER  \n",
       "0              Mount Royal College  \n",
       "1     Central Collegiate Institute  \n",
       "7     Central Collegiate Institute  \n",
       "8        South Calgary High School  \n",
       "9     Central Collegiate Institute  \n",
       "...                            ...  \n",
       "4830                     Churchill  \n",
       "4975                       Bowness  \n",
       "4979                        Fowler  \n",
       "5233              Viscount Bennett  \n",
       "5463                       Bowness  \n",
       "\n",
       "[2456 rows x 6 columns]"
      ]
     },
     "execution_count": 19,
     "metadata": {},
     "output_type": "execute_result"
    }
   ],
   "source": [
    "sports_3"
   ]
  }
 ],
 "metadata": {
  "kernelspec": {
   "display_name": "Python 3 (ipykernel)",
   "language": "python",
   "name": "python3"
  },
  "language_info": {
   "codemirror_mode": {
    "name": "ipython",
    "version": 3
   },
   "file_extension": ".py",
   "mimetype": "text/x-python",
   "name": "python",
   "nbconvert_exporter": "python",
   "pygments_lexer": "ipython3",
   "version": "3.9.7"
  }
 },
 "nbformat": 4,
 "nbformat_minor": 5
}

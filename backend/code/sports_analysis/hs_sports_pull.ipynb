{
 "cells": [
  {
   "cell_type": "markdown",
   "id": "6c6ff52b",
   "metadata": {},
   "source": [
    "# High School Sports Pull\n",
    "\n",
    "This file is used to take the historical city championship data from the Calgary Senior High School Athletic Association and convert it into a `.json` file that can be used in the Data for Good - Schools Explorer project.  "
   ]
  },
  {
   "cell_type": "markdown",
   "id": "fee90037",
   "metadata": {},
   "source": [
    "# Development Notes\n",
    "\n",
    "As this project is using the scrum methodology, this is not entirely complete. Several cleaning steps are needed to be completed at this stage.  \n",
    "\n",
    "Including (but not limited to):\n",
    "    - `level`, `gender`, and `division` are inconsistent throughout. Espescially from first part to second part.  \n",
    "    - School names not standardized  \n",
    "    - Inconsistencies in data entry e.g. sometimes school was entered in `division` instead of `winner` if the sport had no divisions that year  \n",
    "    - Some records are a tie and more than one school is named in the `winner` field\n",
    "    "
   ]
  },
  {
   "cell_type": "markdown",
   "id": "116c741f",
   "metadata": {},
   "source": [
    "# Import Libraries"
   ]
  },
  {
   "cell_type": "code",
   "execution_count": 1,
   "id": "9e0005b5",
   "metadata": {},
   "outputs": [],
   "source": [
    "# Import Libraries\n",
    "\n",
    "from docx import Document\n",
    "import numpy as np\n",
    "import pandas as pd"
   ]
  },
  {
   "cell_type": "markdown",
   "id": "2831adaa",
   "metadata": {},
   "source": [
    "# Import Word Document in Raw Form\n",
    "\n",
    "Obtained from Calgary Senior High School Athletic Association on their website.  \n",
    "Direct link: http://www.calgaryhighschoolsports.ca/files/city_champs_list_at_june_30_2020.docx  \n",
    "Retrieved Nov 4, 2022"
   ]
  },
  {
   "cell_type": "code",
   "execution_count": 85,
   "id": "cec0a957",
   "metadata": {},
   "outputs": [],
   "source": [
    "hs_sports = Document('city_champs_list_at_june_30_2020.docx')"
   ]
  },
  {
   "cell_type": "markdown",
   "id": "cbf9d0ff",
   "metadata": {},
   "source": [
    "# Document Layout\n",
    "\n",
    "This word document has historical city champion results in multiple tables. The first table has results from school years 1913-14 to 1998-99.  \n",
    "\n",
    "The remaining tables contain the data for one year each, from school years 1999-00 to 2019-20.\n",
    "\n",
    "The first table is the largest, and is in a seperate format than the rest of the tables. We will process this table first, process all remaining tables into another DataFrame, and finally concat the two DataFrames into one.\n",
    "\n",
    "# Contents\n",
    "\n",
    "1. First Large Table\n",
    "2. Remaining Tables\n",
    "3. Concat all Tables\n",
    "4. Export results"
   ]
  },
  {
   "cell_type": "markdown",
   "id": "1154e0c9",
   "metadata": {},
   "source": [
    "## First Large Table\n",
    "\n",
    "The following code uses the docx library to pull the data from the first table into Python and convert it to a Pandas Data Frame.  \n",
    "\n",
    "As this step takes over 10 minutes to run, the result is saved as a `.cscv` file even though it is an intermediate step and the `.csv` is not needed."
   ]
  },
  {
   "cell_type": "code",
   "execution_count": 3,
   "id": "41d0e7c1",
   "metadata": {},
   "outputs": [],
   "source": [
    "# This pulls the first table into a Data Frame. This table is very large, and this step takes over 10 minutes\n",
    "table = hs_sports.tables[0]\n",
    "\n",
    "data = []\n",
    "\n",
    "keys = None\n",
    "for i, row in enumerate(table.rows):\n",
    "    text = (cell.text for cell in row.cells)\n",
    "\n",
    "    if i == 0:\n",
    "        keys = tuple(text)\n",
    "        continue\n",
    "    row_data = dict(zip(keys, text))\n",
    "    data.append(row_data)\n"
   ]
  },
  {
   "cell_type": "code",
   "execution_count": 4,
   "id": "7bc08d19",
   "metadata": {},
   "outputs": [],
   "source": [
    "# Convert to Pandas data drame\n",
    "df = pd.DataFrame(data)"
   ]
  },
  {
   "cell_type": "code",
   "execution_count": 5,
   "id": "b90405e6",
   "metadata": {},
   "outputs": [],
   "source": [
    "# Save raw data as .csv\n",
    "df.to_csv('hs_sports_0_raw.csv')"
   ]
  },
  {
   "cell_type": "code",
   "execution_count": 111,
   "id": "55d001ba",
   "metadata": {},
   "outputs": [],
   "source": [
    "raw_0 = pd.read_csv('hs_sports_0_raw.csv')"
   ]
  },
  {
   "cell_type": "code",
   "execution_count": 112,
   "id": "b1c5e93f",
   "metadata": {},
   "outputs": [],
   "source": [
    "raw_0 = raw_0.drop(columns = 'Unnamed: 0')"
   ]
  },
  {
   "cell_type": "code",
   "execution_count": 113,
   "id": "3deedb95",
   "metadata": {},
   "outputs": [],
   "source": [
    "raw_0 = raw_0.fillna('')"
   ]
  },
  {
   "cell_type": "markdown",
   "id": "e87877b1",
   "metadata": {},
   "source": [
    "Some rows have 'Fall' or 'Spring' in the 'YEAR WON' field. We will remove this first."
   ]
  },
  {
   "cell_type": "code",
   "execution_count": 114,
   "id": "619a17b2",
   "metadata": {},
   "outputs": [],
   "source": [
    "df = raw_0.replace(to_replace = ['Fall', 'Spring'], value = '')"
   ]
  },
  {
   "cell_type": "markdown",
   "id": "100c9068",
   "metadata": {},
   "source": [
    "The table is formatted that there are empty rows when a field is repeated ( e.g. year is null except for the first row of the year. The following codes replace blank fields, with the value of the previous row that is not blank. Then extra rows without a 'WINNER' school are then filtered out."
   ]
  },
  {
   "cell_type": "code",
   "execution_count": 115,
   "id": "a4f72fc8",
   "metadata": {},
   "outputs": [],
   "source": [
    "df['YEAR WON'] = df['YEAR WON'].replace(to_replace = '', method = 'ffill')"
   ]
  },
  {
   "cell_type": "code",
   "execution_count": 116,
   "id": "fdb77005",
   "metadata": {},
   "outputs": [],
   "source": [
    "df['SPORT'] = df['SPORT'].replace(to_replace = '', method = 'ffill')"
   ]
  },
  {
   "cell_type": "code",
   "execution_count": 117,
   "id": "6d3f5552",
   "metadata": {},
   "outputs": [],
   "source": [
    "df['LEVEL'] = df['LEVEL'].replace(to_replace = '', method = 'ffill')"
   ]
  },
  {
   "cell_type": "code",
   "execution_count": 118,
   "id": "bbe357c7",
   "metadata": {},
   "outputs": [],
   "source": [
    "df['GENDER'] = df['GENDER'].replace(to_replace = '', method = 'ffill')"
   ]
  },
  {
   "cell_type": "code",
   "execution_count": 119,
   "id": "29c9da90",
   "metadata": {},
   "outputs": [],
   "source": [
    "df['DIVISION'] = df['DIVISION'].replace(to_replace = '', method = 'ffill')"
   ]
  },
  {
   "cell_type": "code",
   "execution_count": 120,
   "id": "88f94802",
   "metadata": {},
   "outputs": [],
   "source": [
    "df = df[df.WINNER != \"\"]"
   ]
  },
  {
   "cell_type": "code",
   "execution_count": 121,
   "id": "e88de617",
   "metadata": {},
   "outputs": [
    {
     "data": {
      "text/html": [
       "<div>\n",
       "<style scoped>\n",
       "    .dataframe tbody tr th:only-of-type {\n",
       "        vertical-align: middle;\n",
       "    }\n",
       "\n",
       "    .dataframe tbody tr th {\n",
       "        vertical-align: top;\n",
       "    }\n",
       "\n",
       "    .dataframe thead th {\n",
       "        text-align: right;\n",
       "    }\n",
       "</style>\n",
       "<table border=\"1\" class=\"dataframe\">\n",
       "  <thead>\n",
       "    <tr style=\"text-align: right;\">\n",
       "      <th></th>\n",
       "      <th>YEAR WON</th>\n",
       "      <th>SPORT</th>\n",
       "      <th>LEVEL</th>\n",
       "      <th>GENDER</th>\n",
       "      <th>DIVISION</th>\n",
       "      <th>WINNER</th>\n",
       "    </tr>\n",
       "  </thead>\n",
       "  <tbody>\n",
       "    <tr>\n",
       "      <th>0</th>\n",
       "      <td>1912-13</td>\n",
       "      <td></td>\n",
       "      <td>Sr. Varsity</td>\n",
       "      <td>Boys</td>\n",
       "      <td>Div I</td>\n",
       "      <td>Mount Royal College</td>\n",
       "    </tr>\n",
       "    <tr>\n",
       "      <th>2</th>\n",
       "      <td>1913-14</td>\n",
       "      <td>Football</td>\n",
       "      <td>Sr. Varsity</td>\n",
       "      <td>Boys</td>\n",
       "      <td>Div I</td>\n",
       "      <td>Mount Royal College</td>\n",
       "    </tr>\n",
       "    <tr>\n",
       "      <th>4</th>\n",
       "      <td>1914-15</td>\n",
       "      <td>Football</td>\n",
       "      <td>Sr. Varsity</td>\n",
       "      <td>Boys</td>\n",
       "      <td>Div I</td>\n",
       "      <td>Central Collegiate Institute</td>\n",
       "    </tr>\n",
       "    <tr>\n",
       "      <th>6</th>\n",
       "      <td>1915-16</td>\n",
       "      <td>Football</td>\n",
       "      <td>Sr. Varsity</td>\n",
       "      <td>Boys</td>\n",
       "      <td>Div I</td>\n",
       "      <td>Not Awarded</td>\n",
       "    </tr>\n",
       "    <tr>\n",
       "      <th>8</th>\n",
       "      <td>1916-17</td>\n",
       "      <td>Football</td>\n",
       "      <td>Sr. Varsity</td>\n",
       "      <td>Boys</td>\n",
       "      <td>Div I</td>\n",
       "      <td>Not Awarded</td>\n",
       "    </tr>\n",
       "    <tr>\n",
       "      <th>...</th>\n",
       "      <td>...</td>\n",
       "      <td>...</td>\n",
       "      <td>...</td>\n",
       "      <td>...</td>\n",
       "      <td>...</td>\n",
       "      <td>...</td>\n",
       "    </tr>\n",
       "    <tr>\n",
       "      <th>1821</th>\n",
       "      <td>1998-99</td>\n",
       "      <td>Volleyball</td>\n",
       "      <td>Sr. Varsity</td>\n",
       "      <td>Boys</td>\n",
       "      <td>Div II</td>\n",
       "      <td>Bowness</td>\n",
       "    </tr>\n",
       "    <tr>\n",
       "      <th>1822</th>\n",
       "      <td>1998-99</td>\n",
       "      <td>Volleyball</td>\n",
       "      <td>Sr. Varsity</td>\n",
       "      <td>Girls</td>\n",
       "      <td>Div I</td>\n",
       "      <td>Sir Winston Churchill</td>\n",
       "    </tr>\n",
       "    <tr>\n",
       "      <th>1823</th>\n",
       "      <td>1998-99</td>\n",
       "      <td>Volleyball</td>\n",
       "      <td>Sr. Varsity</td>\n",
       "      <td>Girls</td>\n",
       "      <td>Div II</td>\n",
       "      <td>Central Memorial</td>\n",
       "    </tr>\n",
       "    <tr>\n",
       "      <th>1825</th>\n",
       "      <td>1998-99</td>\n",
       "      <td>Wrestling</td>\n",
       "      <td>Sr. Varsity</td>\n",
       "      <td>Boys</td>\n",
       "      <td>None</td>\n",
       "      <td>Sir Winston Churchill</td>\n",
       "    </tr>\n",
       "    <tr>\n",
       "      <th>1826</th>\n",
       "      <td>1998-99</td>\n",
       "      <td>Wrestling</td>\n",
       "      <td>Sr. Varsity</td>\n",
       "      <td>Girls</td>\n",
       "      <td>None</td>\n",
       "      <td>Lord Beaverbrook</td>\n",
       "    </tr>\n",
       "  </tbody>\n",
       "</table>\n",
       "<p>1265 rows × 6 columns</p>\n",
       "</div>"
      ],
      "text/plain": [
       "     YEAR WON       SPORT        LEVEL GENDER DIVISION  \\\n",
       "0     1912-13              Sr. Varsity   Boys    Div I   \n",
       "2     1913-14    Football  Sr. Varsity   Boys    Div I   \n",
       "4     1914-15    Football  Sr. Varsity   Boys    Div I   \n",
       "6     1915-16    Football  Sr. Varsity   Boys    Div I   \n",
       "8     1916-17    Football  Sr. Varsity   Boys    Div I   \n",
       "...       ...         ...          ...    ...      ...   \n",
       "1821  1998-99  Volleyball  Sr. Varsity   Boys   Div II   \n",
       "1822  1998-99  Volleyball  Sr. Varsity  Girls    Div I   \n",
       "1823  1998-99  Volleyball  Sr. Varsity  Girls   Div II   \n",
       "1825  1998-99   Wrestling  Sr. Varsity   Boys     None   \n",
       "1826  1998-99   Wrestling  Sr. Varsity  Girls     None   \n",
       "\n",
       "                            WINNER  \n",
       "0              Mount Royal College  \n",
       "2              Mount Royal College  \n",
       "4     Central Collegiate Institute  \n",
       "6                      Not Awarded  \n",
       "8                      Not Awarded  \n",
       "...                            ...  \n",
       "1821                       Bowness  \n",
       "1822         Sir Winston Churchill  \n",
       "1823              Central Memorial  \n",
       "1825         Sir Winston Churchill  \n",
       "1826              Lord Beaverbrook  \n",
       "\n",
       "[1265 rows x 6 columns]"
      ]
     },
     "execution_count": 121,
     "metadata": {},
     "output_type": "execute_result"
    }
   ],
   "source": [
    "df"
   ]
  },
  {
   "cell_type": "markdown",
   "id": "33950a5f",
   "metadata": {},
   "source": [
    "## All Remaining Tables"
   ]
  },
  {
   "cell_type": "markdown",
   "id": "09c5229c",
   "metadata": {},
   "source": [
    "### 1. Prepare tables for Import into Python\n",
    "\n",
    "There was an extra column for some rows of the tables for the years 2014-15, 2015-16, 2016-17, 2017-18, and 2018-19  \n",
    "\n",
    "I cannot figure out how to fix this in Python. I fixed this in Word by doing the following:  \n",
    "\n",
    "Select View Gridlines from Table Layout menu, so areas with extra cells are visible  \n",
    "\n",
    "For all years above except 2018-19:  \n",
    "- Highlight extra cells  \n",
    "- Delete cells with option of shift cells left  \n",
    "- Select entire last column, resize entire column to same size  \n",
    "\n",
    "For year 2018-19:  \n",
    "\n",
    "- Highlight extra column  \n",
    "- Delete Extra Column  \n",
    "- Select entire last column, resize entire column to same size  \n",
    "Save as 'city_champs_partial_col_removed.docx'  \n",
    "\n",
    "Note: Method different for year 2018-2019 because table was formatted differently  "
   ]
  },
  {
   "cell_type": "markdown",
   "id": "813824a9",
   "metadata": {},
   "source": [
    "### 2. Import Tables from Word doc with Standardized Columns"
   ]
  },
  {
   "cell_type": "code",
   "execution_count": 122,
   "id": "13a6c59b",
   "metadata": {},
   "outputs": [],
   "source": [
    "# All of the tables after the first table are formatted the same. Lets create a list of those tables.\n",
    "hs_sports_v2 = Document('city_champs_partial_col_removed.docx')\n",
    "yearly_tables = hs_sports_v2.tables[1:] # Set with index 1: as we want all starting with the second table"
   ]
  },
  {
   "cell_type": "markdown",
   "id": "3b7552c2",
   "metadata": {},
   "source": [
    "### 3. Pull tables into one Pandas DataFrame"
   ]
  },
  {
   "cell_type": "code",
   "execution_count": 123,
   "id": "2bfa0561",
   "metadata": {},
   "outputs": [],
   "source": [
    "# Set Starting Variables\n",
    "data_2 = []\n",
    "keys = None\n",
    "# 1999 - 2000 was the year of the first table in this group.\n",
    "year_start = 1999 \n",
    "year_end = 2000\n",
    "# For loop to run code for all tables \n",
    "for table in yearly_tables:\n",
    "    # The year needs to be specified, as it is not in a column already.\n",
    "    year_end_short = str(year_end)[2:]\n",
    "    year_won = f\"{year_start}-{year_end_short}\" # Standardizes with format in first table.\n",
    "    # Pulls the text from each cell into a dataframe\n",
    "    for i, row in enumerate(table.rows):\n",
    "        text = (cell.text for cell in row.cells)\n",
    "        # The first row of each table is used to specify the column names\n",
    "        if i == 0:\n",
    "            keys = tuple(text)\n",
    "            continue\n",
    "        # All other rows the text is pulled into DataFrame\n",
    "        row_data = dict(zip(keys, text))\n",
    "        # Column for `YEAR WON` is added\n",
    "        row_data['YEAR WON'] = year_won\n",
    "        data_2.append(row_data)\n",
    "    # Increment the year for the iteration of the next table\n",
    "    year_start += 1\n",
    "    year_end += 1"
   ]
  },
  {
   "cell_type": "code",
   "execution_count": 124,
   "id": "b2ecd1cb",
   "metadata": {},
   "outputs": [],
   "source": [
    "# Convert result into a Pandas DataFrame\n",
    "data_2 = pd.DataFrame(data_2)"
   ]
  },
  {
   "cell_type": "markdown",
   "id": "2fb9ab09",
   "metadata": {},
   "source": [
    "### 4. Some basic cleaning\n",
    "\n",
    "a. Standardize column names  \n",
    "b. Fill in rows with missing sport (with previous row based on format of table)  \n",
    "c. Delete rows with no data (missing winner)  "
   ]
  },
  {
   "cell_type": "code",
   "execution_count": 125,
   "id": "a69e3cee",
   "metadata": {},
   "outputs": [],
   "source": [
    "data_2['SPORT'] = data_2.SPORT.replace('\\xa0', '')"
   ]
  },
  {
   "cell_type": "code",
   "execution_count": 126,
   "id": "1f910ff9",
   "metadata": {},
   "outputs": [],
   "source": [
    "data_2['DIVISION'] = data_2.DIVISION.replace('\\xa0', '')"
   ]
  },
  {
   "cell_type": "code",
   "execution_count": 127,
   "id": "15474230",
   "metadata": {},
   "outputs": [],
   "source": [
    "data_2['SCHOOL'] = data_2.SCHOOL.replace('\\xa0', '')"
   ]
  },
  {
   "cell_type": "code",
   "execution_count": 128,
   "id": "af7ab8e1",
   "metadata": {},
   "outputs": [],
   "source": [
    "data_2 = data_2.rename(columns = {'SCHOOL' : 'WINNER'})\n",
    "data_2['SPORT'] = data_2['SPORT'].replace(to_replace = '', method = 'ffill')"
   ]
  },
  {
   "cell_type": "code",
   "execution_count": 129,
   "id": "d23ee725",
   "metadata": {
    "scrolled": false
   },
   "outputs": [],
   "source": [
    "data_2 = data_2[data_2.WINNER != \"\"]"
   ]
  },
  {
   "cell_type": "markdown",
   "id": "3ca2cedf",
   "metadata": {},
   "source": [
    "## Concat all Tables"
   ]
  },
  {
   "cell_type": "code",
   "execution_count": 130,
   "id": "cf1157a9",
   "metadata": {},
   "outputs": [],
   "source": [
    "sports_combined = pd.concat([df, data_2], ignore_index = True)"
   ]
  },
  {
   "cell_type": "code",
   "execution_count": 131,
   "id": "55d6000c",
   "metadata": {},
   "outputs": [],
   "source": [
    "sports_combined = sports_combined[sports_combined.SPORT != ''] # Removes first row which has no sport listed"
   ]
  },
  {
   "cell_type": "markdown",
   "id": "f644f6eb",
   "metadata": {},
   "source": [
    "## Save Output Files\n",
    "\n",
    "Outputs saved as both `.csv` and `.json`."
   ]
  },
  {
   "cell_type": "code",
   "execution_count": 133,
   "id": "7922e53f",
   "metadata": {},
   "outputs": [],
   "source": [
    "sports_combined.to_csv('sports_combined.csv')"
   ]
  },
  {
   "cell_type": "code",
   "execution_count": 134,
   "id": "4ceeffc9",
   "metadata": {},
   "outputs": [],
   "source": [
    "sports_combined.to_json('sports_combined.json')"
   ]
  },
  {
   "cell_type": "code",
   "execution_count": 135,
   "id": "37d63f2b",
   "metadata": {},
   "outputs": [],
   "source": [
    "sports_combined.to_pickle('sports.pkl')"
   ]
  },
  {
   "cell_type": "code",
   "execution_count": 136,
   "id": "2067c132",
   "metadata": {},
   "outputs": [
    {
     "data": {
      "text/html": [
       "<div>\n",
       "<style scoped>\n",
       "    .dataframe tbody tr th:only-of-type {\n",
       "        vertical-align: middle;\n",
       "    }\n",
       "\n",
       "    .dataframe tbody tr th {\n",
       "        vertical-align: top;\n",
       "    }\n",
       "\n",
       "    .dataframe thead th {\n",
       "        text-align: right;\n",
       "    }\n",
       "</style>\n",
       "<table border=\"1\" class=\"dataframe\">\n",
       "  <thead>\n",
       "    <tr style=\"text-align: right;\">\n",
       "      <th></th>\n",
       "      <th>YEAR WON</th>\n",
       "      <th>SPORT</th>\n",
       "      <th>LEVEL</th>\n",
       "      <th>GENDER</th>\n",
       "      <th>DIVISION</th>\n",
       "      <th>WINNER</th>\n",
       "    </tr>\n",
       "  </thead>\n",
       "  <tbody>\n",
       "    <tr>\n",
       "      <th>1</th>\n",
       "      <td>1913-14</td>\n",
       "      <td>Football</td>\n",
       "      <td>Sr. Varsity</td>\n",
       "      <td>Boys</td>\n",
       "      <td>Div I</td>\n",
       "      <td>Mount Royal College</td>\n",
       "    </tr>\n",
       "    <tr>\n",
       "      <th>2</th>\n",
       "      <td>1914-15</td>\n",
       "      <td>Football</td>\n",
       "      <td>Sr. Varsity</td>\n",
       "      <td>Boys</td>\n",
       "      <td>Div I</td>\n",
       "      <td>Central Collegiate Institute</td>\n",
       "    </tr>\n",
       "    <tr>\n",
       "      <th>3</th>\n",
       "      <td>1915-16</td>\n",
       "      <td>Football</td>\n",
       "      <td>Sr. Varsity</td>\n",
       "      <td>Boys</td>\n",
       "      <td>Div I</td>\n",
       "      <td>Not Awarded</td>\n",
       "    </tr>\n",
       "    <tr>\n",
       "      <th>4</th>\n",
       "      <td>1916-17</td>\n",
       "      <td>Football</td>\n",
       "      <td>Sr. Varsity</td>\n",
       "      <td>Boys</td>\n",
       "      <td>Div I</td>\n",
       "      <td>Not Awarded</td>\n",
       "    </tr>\n",
       "    <tr>\n",
       "      <th>5</th>\n",
       "      <td>1917-18</td>\n",
       "      <td>Football</td>\n",
       "      <td>Sr. Varsity</td>\n",
       "      <td>Boys</td>\n",
       "      <td>Div I</td>\n",
       "      <td>Not Awarded</td>\n",
       "    </tr>\n",
       "    <tr>\n",
       "      <th>...</th>\n",
       "      <td>...</td>\n",
       "      <td>...</td>\n",
       "      <td>...</td>\n",
       "      <td>...</td>\n",
       "      <td>...</td>\n",
       "      <td>...</td>\n",
       "    </tr>\n",
       "    <tr>\n",
       "      <th>2514</th>\n",
       "      <td>2019-20</td>\n",
       "      <td>TRACK &amp; FIELD</td>\n",
       "      <td>NaN</td>\n",
       "      <td>NaN</td>\n",
       "      <td>Intermediate Girls</td>\n",
       "      <td>did not occur due to Covid19 school closures</td>\n",
       "    </tr>\n",
       "    <tr>\n",
       "      <th>2515</th>\n",
       "      <td>2019-20</td>\n",
       "      <td>TRACK &amp; FIELD</td>\n",
       "      <td>NaN</td>\n",
       "      <td>NaN</td>\n",
       "      <td>Senior Girls</td>\n",
       "      <td>did not occur due to Covid19 school closures</td>\n",
       "    </tr>\n",
       "    <tr>\n",
       "      <th>2516</th>\n",
       "      <td>2019-20</td>\n",
       "      <td>TRACK &amp; FIELD</td>\n",
       "      <td>NaN</td>\n",
       "      <td>NaN</td>\n",
       "      <td>Junior Boys</td>\n",
       "      <td>did not occur due to Covid19 school closures</td>\n",
       "    </tr>\n",
       "    <tr>\n",
       "      <th>2517</th>\n",
       "      <td>2019-20</td>\n",
       "      <td>TRACK &amp; FIELD</td>\n",
       "      <td>NaN</td>\n",
       "      <td>NaN</td>\n",
       "      <td>Intermediate Boys</td>\n",
       "      <td>did not occur due to Covid19 school closures</td>\n",
       "    </tr>\n",
       "    <tr>\n",
       "      <th>2518</th>\n",
       "      <td>2019-20</td>\n",
       "      <td>TRACK &amp; FIELD</td>\n",
       "      <td>NaN</td>\n",
       "      <td>NaN</td>\n",
       "      <td>Senior Boys</td>\n",
       "      <td>did not occur due to Covid19 school closures</td>\n",
       "    </tr>\n",
       "  </tbody>\n",
       "</table>\n",
       "<p>2518 rows × 6 columns</p>\n",
       "</div>"
      ],
      "text/plain": [
       "     YEAR WON          SPORT        LEVEL GENDER            DIVISION  \\\n",
       "1     1913-14       Football  Sr. Varsity   Boys               Div I   \n",
       "2     1914-15       Football  Sr. Varsity   Boys               Div I   \n",
       "3     1915-16       Football  Sr. Varsity   Boys               Div I   \n",
       "4     1916-17       Football  Sr. Varsity   Boys               Div I   \n",
       "5     1917-18       Football  Sr. Varsity   Boys               Div I   \n",
       "...       ...            ...          ...    ...                 ...   \n",
       "2514  2019-20  TRACK & FIELD          NaN    NaN  Intermediate Girls   \n",
       "2515  2019-20  TRACK & FIELD          NaN    NaN        Senior Girls   \n",
       "2516  2019-20  TRACK & FIELD          NaN    NaN         Junior Boys   \n",
       "2517  2019-20  TRACK & FIELD          NaN    NaN   Intermediate Boys   \n",
       "2518  2019-20  TRACK & FIELD          NaN    NaN         Senior Boys   \n",
       "\n",
       "                                            WINNER  \n",
       "1                              Mount Royal College  \n",
       "2                     Central Collegiate Institute  \n",
       "3                                      Not Awarded  \n",
       "4                                      Not Awarded  \n",
       "5                                      Not Awarded  \n",
       "...                                            ...  \n",
       "2514  did not occur due to Covid19 school closures  \n",
       "2515  did not occur due to Covid19 school closures  \n",
       "2516  did not occur due to Covid19 school closures  \n",
       "2517  did not occur due to Covid19 school closures  \n",
       "2518  did not occur due to Covid19 school closures  \n",
       "\n",
       "[2518 rows x 6 columns]"
      ]
     },
     "execution_count": 136,
     "metadata": {},
     "output_type": "execute_result"
    }
   ],
   "source": [
    "sports_combined"
   ]
  }
 ],
 "metadata": {
  "kernelspec": {
   "display_name": "Python 3 (ipykernel)",
   "language": "python",
   "name": "python3"
  },
  "language_info": {
   "codemirror_mode": {
    "name": "ipython",
    "version": 3
   },
   "file_extension": ".py",
   "mimetype": "text/x-python",
   "name": "python",
   "nbconvert_exporter": "python",
   "pygments_lexer": "ipython3",
   "version": "3.9.7"
  }
 },
 "nbformat": 4,
 "nbformat_minor": 5
}

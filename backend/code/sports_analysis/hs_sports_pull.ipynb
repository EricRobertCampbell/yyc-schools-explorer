{
 "cells": [
  {
   "cell_type": "markdown",
   "id": "6c6ff52b",
   "metadata": {},
   "source": [
    "# High School Sports Pull\n",
    "\n",
    "This file is used to take the historical city championship data from the Calgary Senior High School Athletic Association and convert it into a `.json` file that can be used in the Data for Good - Schools Explorer project.  "
   ]
  },
  {
   "cell_type": "markdown",
   "id": "fee90037",
   "metadata": {},
   "source": [
    "# Development Notes\n",
    "\n",
    "As this project is using the scrum methodology, this is not entirely complete. Several cleaning steps are needed to be completed at this stage.  \n",
    "\n",
    "Including (but not limited to):\n",
    "    - `level`, `gender`, and `division` are inconsistent throughout. Espescially from first part to second part.  \n",
    "    - School names not standardized  \n",
    "    - Inconsistencies in data entry e.g. sometimes school was entered in `division` instead of `winner` if the sport had no divisions that year  \n",
    "    - Some records are a tie and more than one school is named in the `winner` field\n",
    "    "
   ]
  },
  {
   "cell_type": "markdown",
   "id": "116c741f",
   "metadata": {},
   "source": [
    "# Import Libraries"
   ]
  },
  {
   "cell_type": "code",
   "execution_count": 8,
   "id": "9e0005b5",
   "metadata": {},
   "outputs": [],
   "source": [
    "# Import Libraries\n",
    "\n",
    "from docx import Document\n",
    "import numpy as np\n",
    "import pandas as pd"
   ]
  },
  {
   "cell_type": "markdown",
   "id": "2831adaa",
   "metadata": {},
   "source": [
    "# Import Word Document in Raw Form\n",
    "\n",
    "Obtained from Calgary Senior High School Athletic Association on their website.  \n",
    "Direct link: http://www.calgaryhighschoolsports.ca/files/city_champs_list_at_june_30_2020.docx  \n",
    "Retrieved Nov 4, 2022"
   ]
  },
  {
   "cell_type": "code",
   "execution_count": 2,
   "id": "cec0a957",
   "metadata": {},
   "outputs": [],
   "source": [
    "hs_sports = Document('city_champs_list_at_june_30_2020.docx')"
   ]
  },
  {
   "cell_type": "markdown",
   "id": "cbf9d0ff",
   "metadata": {},
   "source": [
    "# Document Layout\n",
    "\n",
    "This word document has historical city champion results in multiple tables. The first table has results from school years 1913-14 to 1998-99.  \n",
    "\n",
    "The remaining tables contain the data for one year each, from school years 1999-00 to 2019-20.\n",
    "\n",
    "The first table is the largest, and is in a seperate format than the rest of the tables. We will process this table first, process all remaining tables into another DataFrame, and finally concat the two DataFrames into one.\n",
    "\n",
    "# Contents\n",
    "\n",
    "1. First Large Table\n",
    "2. Remaining Tables\n",
    "3. Concat all Tables\n",
    "4. Export results"
   ]
  },
  {
   "cell_type": "markdown",
   "id": "1154e0c9",
   "metadata": {},
   "source": [
    "## First Large Table\n",
    "\n",
    "The following code uses the docx library to pull the data from the first table into Python and convert it to a Pandas Data Frame.  \n",
    "\n",
    "As this step takes over 10 minutes to run, the result is saved as a `.cscv` file even though it is an intermediate step and the `.csv` is not needed."
   ]
  },
  {
   "cell_type": "code",
   "execution_count": 5,
   "id": "41d0e7c1",
   "metadata": {},
   "outputs": [],
   "source": [
    "# This pulls the first table into a Data Frame. This table is very large, and this step takes over 10 minutes\n",
    "table = hs_sports.tables[0]\n",
    "\n",
    "data = []\n",
    "\n",
    "keys = None\n",
    "for i, row in enumerate(table.rows):\n",
    "    text = (cell.text for cell in row.cells)\n",
    "\n",
    "    if i == 0:\n",
    "        keys = tuple(text)\n",
    "        continue\n",
    "    row_data = dict(zip(keys, text))\n",
    "    data.append(row_data)\n"
   ]
  },
  {
   "cell_type": "code",
   "execution_count": 9,
   "id": "7bc08d19",
   "metadata": {},
   "outputs": [],
   "source": [
    "# Convert to Pandas data drame\n",
    "df = pd.DataFrame(data)"
   ]
  },
  {
   "cell_type": "code",
   "execution_count": 11,
   "id": "b90405e6",
   "metadata": {},
   "outputs": [],
   "source": [
    "# Save raw data as .csv\n",
    "df.to_csv('hs_sports_0_raw.csv')"
   ]
  },
  {
   "cell_type": "markdown",
   "id": "100c9068",
   "metadata": {},
   "source": [
    "The table is formatted that there are empty rows when a field is repeated ( e.g. year is null except for the first row of the year. The following codes replace blank fields, with the value of the previous row that is not blank. Then extra rows without a 'WINNER' school are then filtered out."
   ]
  },
  {
   "cell_type": "code",
   "execution_count": 12,
   "id": "a4f72fc8",
   "metadata": {},
   "outputs": [],
   "source": [
    "df['YEAR WON'] = df['YEAR WON'].replace(to_replace = '', method = 'ffill')"
   ]
  },
  {
   "cell_type": "code",
   "execution_count": 13,
   "id": "fdb77005",
   "metadata": {},
   "outputs": [],
   "source": [
    "df['SPORT'] = df['SPORT'].replace(to_replace = '', method = 'ffill')"
   ]
  },
  {
   "cell_type": "code",
   "execution_count": 14,
   "id": "6d3f5552",
   "metadata": {},
   "outputs": [],
   "source": [
    "df['LEVEL'] = df['LEVEL'].replace(to_replace = '', method = 'ffill')"
   ]
  },
  {
   "cell_type": "code",
   "execution_count": 15,
   "id": "bbe357c7",
   "metadata": {},
   "outputs": [],
   "source": [
    "df['GENDER'] = df['GENDER'].replace(to_replace = '', method = 'ffill')"
   ]
  },
  {
   "cell_type": "code",
   "execution_count": 16,
   "id": "29c9da90",
   "metadata": {},
   "outputs": [],
   "source": [
    "df['DIVISION'] = df['DIVISION'].replace(to_replace = '', method = 'ffill')"
   ]
  },
  {
   "cell_type": "code",
   "execution_count": 19,
   "id": "88f94802",
   "metadata": {},
   "outputs": [],
   "source": [
    "df = df[df.WINNER != \"\"]"
   ]
  },
  {
   "cell_type": "markdown",
   "id": "33950a5f",
   "metadata": {},
   "source": [
    "## All Remaining Tables"
   ]
  },
  {
   "cell_type": "markdown",
   "id": "09c5229c",
   "metadata": {},
   "source": [
    "### 1. Prepare tables for Import into Python\n",
    "\n",
    "There was an extra column for some rows of the tables for the years 2014-15, 2015-16, 2016-17, 2017-18, and 2018-19  \n",
    "\n",
    "I cannot figure out how to fix this in Python. I fixed this in Word by doing the following:  \n",
    "\n",
    "Select View Gridlines from Table Layout menu, so areas with extra cells are visible  \n",
    "\n",
    "For all years above except 2018-19:  \n",
    "- Highlight extra cells  \n",
    "- Delete cells with option of shift cells left  \n",
    "- Select entire last column, resize entire column to same size  \n",
    "\n",
    "For year 2018-19:  \n",
    "\n",
    "- Highlight extra column  \n",
    "- Delete Extra Column  \n",
    "- Select entire last column, resize entire column to same size  \n",
    "Save as 'city_champs_partial_col_removed.docx'  \n",
    "\n",
    "Note: Method different for year 2018-2019 because table was formatted differently  "
   ]
  },
  {
   "cell_type": "markdown",
   "id": "813824a9",
   "metadata": {},
   "source": [
    "### 2. Import Tables from Word doc with Standardized Columns"
   ]
  },
  {
   "cell_type": "code",
   "execution_count": 188,
   "id": "13a6c59b",
   "metadata": {},
   "outputs": [],
   "source": [
    "# All of the tables after the first table are formatted the same. Lets create a list of those tables.\n",
    "hs_sports_v2 = Document('city_champs_partial_col_removed.docx')\n",
    "yearly_tables = hs_sports_v2.tables[1:] # Set with index 1: as we want all starting with the second table"
   ]
  },
  {
   "cell_type": "markdown",
   "id": "3b7552c2",
   "metadata": {},
   "source": [
    "### 3. Pull tables into one Pandas DataFrame"
   ]
  },
  {
   "cell_type": "code",
   "execution_count": 189,
   "id": "2bfa0561",
   "metadata": {},
   "outputs": [],
   "source": [
    "# Set Starting Variables\n",
    "data_2 = []\n",
    "keys = None\n",
    "# 1999 - 2000 was the year of the first table in this group.\n",
    "year_start = 1999 \n",
    "year_end = 2000\n",
    "# For loop to run code for all tables \n",
    "for table in yearly_tables:\n",
    "    # The year needs to be specified, as it is not in a column already.\n",
    "    year_end_short = str(year_end)[2:]\n",
    "    year_won = f\"{year_start}-{year_end_short}\" # Standardizes with format in first table.\n",
    "    # Pulls the text from each cell into a dataframe\n",
    "    for i, row in enumerate(table.rows):\n",
    "        text = (cell.text for cell in row.cells)\n",
    "        # The first row of each table is used to specify the column names\n",
    "        if i == 0:\n",
    "            keys = tuple(text)\n",
    "            continue\n",
    "        # All other rows the text is pulled into DataFrame\n",
    "        row_data = dict(zip(keys, text))\n",
    "        # Column for `YEAR WON` is added\n",
    "        row_data['YEAR WON'] = year_won\n",
    "        data_2.append(row_data)\n",
    "    # Increment the year for the iteration of the next table\n",
    "    year_start += 1\n",
    "    year_end += 1"
   ]
  },
  {
   "cell_type": "code",
   "execution_count": 190,
   "id": "b2ecd1cb",
   "metadata": {
    "collapsed": true
   },
   "outputs": [
    {
     "data": {
      "text/html": [
       "<div>\n",
       "<style scoped>\n",
       "    .dataframe tbody tr th:only-of-type {\n",
       "        vertical-align: middle;\n",
       "    }\n",
       "\n",
       "    .dataframe tbody tr th {\n",
       "        vertical-align: top;\n",
       "    }\n",
       "\n",
       "    .dataframe thead th {\n",
       "        text-align: right;\n",
       "    }\n",
       "</style>\n",
       "<table border=\"1\" class=\"dataframe\">\n",
       "  <thead>\n",
       "    <tr style=\"text-align: right;\">\n",
       "      <th></th>\n",
       "      <th>SPORT</th>\n",
       "      <th>DIVISION</th>\n",
       "      <th>SCHOOL</th>\n",
       "      <th>YEAR WON</th>\n",
       "    </tr>\n",
       "  </thead>\n",
       "  <tbody>\n",
       "    <tr>\n",
       "      <th>0</th>\n",
       "      <td>FOOTBALL</td>\n",
       "      <td>- Jr. Boys Div. I</td>\n",
       "      <td>James Fowler</td>\n",
       "      <td>1999-00</td>\n",
       "    </tr>\n",
       "    <tr>\n",
       "      <th>1</th>\n",
       "      <td></td>\n",
       "      <td>- Jr. Boys Div. II</td>\n",
       "      <td>John G. Diefenbaker</td>\n",
       "      <td>1999-00</td>\n",
       "    </tr>\n",
       "    <tr>\n",
       "      <th>2</th>\n",
       "      <td></td>\n",
       "      <td>- Sr. Boys Div. I</td>\n",
       "      <td>William Aberhart</td>\n",
       "      <td>1999-00</td>\n",
       "    </tr>\n",
       "    <tr>\n",
       "      <th>3</th>\n",
       "      <td></td>\n",
       "      <td>- Sr. Boys Div. II</td>\n",
       "      <td>Bowness</td>\n",
       "      <td>1999-00</td>\n",
       "    </tr>\n",
       "    <tr>\n",
       "      <th>4</th>\n",
       "      <td></td>\n",
       "      <td></td>\n",
       "      <td></td>\n",
       "      <td>1999-00</td>\n",
       "    </tr>\n",
       "    <tr>\n",
       "      <th>...</th>\n",
       "      <td>...</td>\n",
       "      <td>...</td>\n",
       "      <td>...</td>\n",
       "      <td>...</td>\n",
       "    </tr>\n",
       "    <tr>\n",
       "      <th>1505</th>\n",
       "      <td></td>\n",
       "      <td>Intermediate Girls</td>\n",
       "      <td>did not occur due to Covid19 school closures</td>\n",
       "      <td>2019-20</td>\n",
       "    </tr>\n",
       "    <tr>\n",
       "      <th>1506</th>\n",
       "      <td></td>\n",
       "      <td>Senior Girls</td>\n",
       "      <td>did not occur due to Covid19 school closures</td>\n",
       "      <td>2019-20</td>\n",
       "    </tr>\n",
       "    <tr>\n",
       "      <th>1507</th>\n",
       "      <td></td>\n",
       "      <td>Junior Boys</td>\n",
       "      <td>did not occur due to Covid19 school closures</td>\n",
       "      <td>2019-20</td>\n",
       "    </tr>\n",
       "    <tr>\n",
       "      <th>1508</th>\n",
       "      <td></td>\n",
       "      <td>Intermediate Boys</td>\n",
       "      <td>did not occur due to Covid19 school closures</td>\n",
       "      <td>2019-20</td>\n",
       "    </tr>\n",
       "    <tr>\n",
       "      <th>1509</th>\n",
       "      <td></td>\n",
       "      <td>Senior Boys</td>\n",
       "      <td>did not occur due to Covid19 school closures</td>\n",
       "      <td>2019-20</td>\n",
       "    </tr>\n",
       "  </tbody>\n",
       "</table>\n",
       "<p>1510 rows × 4 columns</p>\n",
       "</div>"
      ],
      "text/plain": [
       "         SPORT            DIVISION  \\\n",
       "0     FOOTBALL   - Jr. Boys Div. I   \n",
       "1               - Jr. Boys Div. II   \n",
       "2                - Sr. Boys Div. I   \n",
       "3               - Sr. Boys Div. II   \n",
       "4                                    \n",
       "...        ...                 ...   \n",
       "1505            Intermediate Girls   \n",
       "1506                  Senior Girls   \n",
       "1507                   Junior Boys   \n",
       "1508             Intermediate Boys   \n",
       "1509                   Senior Boys   \n",
       "\n",
       "                                            SCHOOL YEAR WON  \n",
       "0                                     James Fowler  1999-00  \n",
       "1                              John G. Diefenbaker  1999-00  \n",
       "2                                 William Aberhart  1999-00  \n",
       "3                                          Bowness  1999-00  \n",
       "4                                                   1999-00  \n",
       "...                                            ...      ...  \n",
       "1505  did not occur due to Covid19 school closures  2019-20  \n",
       "1506  did not occur due to Covid19 school closures  2019-20  \n",
       "1507  did not occur due to Covid19 school closures  2019-20  \n",
       "1508  did not occur due to Covid19 school closures  2019-20  \n",
       "1509  did not occur due to Covid19 school closures  2019-20  \n",
       "\n",
       "[1510 rows x 4 columns]"
      ]
     },
     "execution_count": 190,
     "metadata": {},
     "output_type": "execute_result"
    }
   ],
   "source": [
    "# Convert result into a Pandas DataFrame\n",
    "data_2 = pd.DataFrame(data_2)"
   ]
  },
  {
   "cell_type": "markdown",
   "id": "2fb9ab09",
   "metadata": {},
   "source": [
    "### 4. Some basic cleaning\n",
    "\n",
    "a. Standardize column names  \n",
    "b. Fill in rows with missing sport (with previous row based on format of table)  \n",
    "c. Delete rows with no data (missing winner)  "
   ]
  },
  {
   "cell_type": "code",
   "execution_count": 195,
   "id": "af7ab8e1",
   "metadata": {},
   "outputs": [],
   "source": [
    "data_2 = data_2.rename(columns = {'SCHOOL' : 'WINNER'})\n",
    "data_2['SPORT'] = data_2['SPORT'].replace(to_replace = '', method = 'ffill')"
   ]
  },
  {
   "cell_type": "code",
   "execution_count": 200,
   "id": "d23ee725",
   "metadata": {
    "scrolled": false
   },
   "outputs": [],
   "source": [
    "data_2 = data_2[data_2.WINNER != \"\"]"
   ]
  },
  {
   "cell_type": "markdown",
   "id": "3ca2cedf",
   "metadata": {},
   "source": [
    "## Concat all Tables"
   ]
  },
  {
   "cell_type": "code",
   "execution_count": 204,
   "id": "cf1157a9",
   "metadata": {},
   "outputs": [],
   "source": [
    "sports_combined = pd.concat([df, data_2], ignore_index = True)"
   ]
  },
  {
   "cell_type": "code",
   "execution_count": 209,
   "id": "55d6000c",
   "metadata": {},
   "outputs": [],
   "source": [
    "sports_combined = sports_combined[sports_combined.SPORT != ''] # Removes first row which has no sport listed"
   ]
  },
  {
   "cell_type": "markdown",
   "id": "f644f6eb",
   "metadata": {},
   "source": [
    "## Save Output Files\n",
    "\n",
    "Outputs saved as both `.csv` and `.json`."
   ]
  },
  {
   "cell_type": "code",
   "execution_count": 210,
   "id": "7922e53f",
   "metadata": {},
   "outputs": [],
   "source": [
    "sports_combined.to_csv('sports_combined.csv')"
   ]
  },
  {
   "cell_type": "code",
   "execution_count": 211,
   "id": "4ceeffc9",
   "metadata": {},
   "outputs": [],
   "source": [
    "sports_combined.to_json('sports_combined.json')"
   ]
  }
 ],
 "metadata": {
  "kernelspec": {
   "display_name": "Python 3 (ipykernel)",
   "language": "python",
   "name": "python3"
  },
  "language_info": {
   "codemirror_mode": {
    "name": "ipython",
    "version": 3
   },
   "file_extension": ".py",
   "mimetype": "text/x-python",
   "name": "python",
   "nbconvert_exporter": "python",
   "pygments_lexer": "ipython3",
   "version": "3.9.7"
  }
 },
 "nbformat": 4,
 "nbformat_minor": 5
}
